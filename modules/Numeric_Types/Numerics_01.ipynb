{
 "cells": [
  {
   "cell_type": "markdown",
   "id": "80c13187",
   "metadata": {},
   "source": [
    "# Python Numerics"
   ]
  },
  {
   "cell_type": "markdown",
   "id": "5b3b0263",
   "metadata": {},
   "source": [
    "Python has three numeric data types: `int`, `float`, and `complex`."
   ]
  },
  {
   "cell_type": "markdown",
   "id": "755b72ef",
   "metadata": {},
   "source": [
    "## Part 1: Integers"
   ]
  },
  {
   "cell_type": "markdown",
   "id": "89a7e775",
   "metadata": {},
   "source": [
    "An integer is any whole number, positive or negative."
   ]
  },
  {
   "cell_type": "code",
   "execution_count": 1,
   "id": "72eed5e4",
   "metadata": {},
   "outputs": [
    {
     "data": {
      "text/plain": [
       "1066"
      ]
     },
     "execution_count": 1,
     "metadata": {},
     "output_type": "execute_result"
    }
   ],
   "source": [
    "1066"
   ]
  },
  {
   "cell_type": "code",
   "execution_count": 2,
   "id": "cc6fd16f",
   "metadata": {},
   "outputs": [
    {
     "data": {
      "text/plain": [
       "-4"
      ]
     },
     "execution_count": 2,
     "metadata": {},
     "output_type": "execute_result"
    }
   ],
   "source": [
    "-4"
   ]
  },
  {
   "cell_type": "markdown",
   "id": "da269271",
   "metadata": {},
   "source": [
    "### Calculation"
   ]
  },
  {
   "cell_type": "code",
   "execution_count": 3,
   "id": "fb6509fb",
   "metadata": {},
   "outputs": [
    {
     "data": {
      "text/plain": [
       "1070"
      ]
     },
     "execution_count": 3,
     "metadata": {},
     "output_type": "execute_result"
    }
   ],
   "source": [
    "1066 + 4"
   ]
  },
  {
   "cell_type": "code",
   "execution_count": 4,
   "id": "165f6bd0",
   "metadata": {},
   "outputs": [
    {
     "data": {
      "text/plain": [
       "1062"
      ]
     },
     "execution_count": 4,
     "metadata": {},
     "output_type": "execute_result"
    }
   ],
   "source": [
    "1066 - 4"
   ]
  },
  {
   "cell_type": "markdown",
   "id": "41e8f35c",
   "metadata": {},
   "source": [
    "Addition and subtraction work in Python as expected."
   ]
  },
  {
   "cell_type": "code",
   "execution_count": 5,
   "id": "b2850518",
   "metadata": {},
   "outputs": [
    {
     "data": {
      "text/plain": [
       "4264"
      ]
     },
     "execution_count": 5,
     "metadata": {},
     "output_type": "execute_result"
    }
   ],
   "source": [
    "1066 * 4"
   ]
  },
  {
   "cell_type": "markdown",
   "id": "414fe5ee",
   "metadata": {},
   "source": [
    "Multiplication is done with the asterisk (`*`)."
   ]
  },
  {
   "cell_type": "code",
   "execution_count": 6,
   "id": "34c58b46",
   "metadata": {},
   "outputs": [
    {
     "data": {
      "text/plain": [
       "266.5"
      ]
     },
     "execution_count": 6,
     "metadata": {},
     "output_type": "execute_result"
    }
   ],
   "source": [
    "1066 / 4"
   ]
  },
  {
   "cell_type": "markdown",
   "id": "3bac1e85",
   "metadata": {},
   "source": [
    "In division operations, even when both of the input numbers are `int`s, the output is not an `int` but a `float`."
   ]
  },
  {
   "cell_type": "code",
   "execution_count": 7,
   "id": "88c04fa5",
   "metadata": {},
   "outputs": [
    {
     "data": {
      "text/plain": [
       "1291304958736"
      ]
     },
     "execution_count": 7,
     "metadata": {},
     "output_type": "execute_result"
    }
   ],
   "source": [
    "1066 ** 4"
   ]
  },
  {
   "cell_type": "markdown",
   "id": "9f51e97e",
   "metadata": {},
   "source": [
    "Exponents are represented by two asterisks."
   ]
  },
  {
   "cell_type": "markdown",
   "id": "e8c505b3",
   "metadata": {},
   "source": [
    "### Readability"
   ]
  },
  {
   "cell_type": "markdown",
   "id": "47f242ca",
   "metadata": {},
   "source": [
    "When typing out large integers, you can insert underscores for legibility."
   ]
  },
  {
   "cell_type": "code",
   "execution_count": 8,
   "id": "79e63982",
   "metadata": {},
   "outputs": [
    {
     "data": {
      "text/plain": [
       "1000000000"
      ]
     },
     "execution_count": 8,
     "metadata": {},
     "output_type": "execute_result"
    }
   ],
   "source": [
    "1_000_000_000"
   ]
  },
  {
   "cell_type": "markdown",
   "id": "5772c062",
   "metadata": {},
   "source": [
    "### Size limits"
   ]
  },
  {
   "cell_type": "markdown",
   "id": "6fb58831",
   "metadata": {},
   "source": [
    "Some programming languages have limits to the size of integers. This limitation exists for Python as well, but in practice, you can't reach it."
   ]
  },
  {
   "cell_type": "code",
   "execution_count": 9,
   "id": "11c15ac7",
   "metadata": {},
   "outputs": [],
   "source": [
    "# 2 ** (276_701_161_105_643_274_210) - 1\n",
    "\n",
    "# Normal consumer hardware cannot complete this calculation before exhausting memory"
   ]
  },
  {
   "cell_type": "markdown",
   "id": "a935f4ff",
   "metadata": {},
   "source": [
    "On 64-bit machines, Python integers can reach a size up to 2 to the power of 276,701,161,105,643,274,210 (_two hundred seventy-six quintillion, seven hundred one quadrillion, one hundred sixty-one trillion, one hundred five billion, six hundred forty-three million, two hundred seventy four thousand, two hundred ten_) minus 1."
   ]
  },
  {
   "cell_type": "markdown",
   "id": "786c85ac",
   "metadata": {},
   "source": [
    "And just because you can store numeric values up to essentially arbitrary sizes in a Python `int`, doesn't mean you'll be able to print that value to your terminal screen or to a log file."
   ]
  },
  {
   "cell_type": "code",
   "execution_count": 10,
   "id": "0c90b54f",
   "metadata": {},
   "outputs": [
    {
     "data": {
      "text/plain": [
       "9999999999999999999999999999999999999999999999999999999999999999999999999999999999999999999999999999999999999999999999999999999999999999999999999999999999999999999999999999999999999999999999999999999999999999999999999999999999999999999999999999999999999999999999999999999999999999999999999999999999999999999999999999999999999999999999999999999999999999999999999999999999999999999999999999999999999999999999999999999999999999999999999999999999999999999999999999999999999999999999999999999999999999999999999999999999999999999999999999999999999999999999999999999999999999999999999999999999999999999999999999999999999999999999999999999999999999999999999999999999999999999999999999999999999999999999999999999999999999999999999999999999999999999999999999999999999999999999999999999999999999999999999999999999999999999999999999999999999999999999999999999999999999999999999999999999999999999999999999999999999999999999999999999999999999999999999999999999999999999999999999999999999999999999999999999999999999999999999999999999999999999999999999999999999999999999999999999999999999999999999999999999999999999999999999999999999999999999999999999999999999999999999999999999999999999999999999999999999999999999999999999999999999999999999999999999999999999999999999999999999999999999999999999999999999999999999999999999999999999999999999999999999999999999999999999999999999999999999999999999999999999999999999999999999999999999999999999999999999999999999999999999999999999999999999999999999999999999999999999999999999999999999999999999999999999999999999999999999999999999999999999999999999999999999999999999999999999999999999999999999999999999999999999999999999999999999999999999999999999999999999999999999999999999999999999999999999999999999999999999999999999999999999999999999999999999999999999999999999999999999999999999999999999999999999999999999999999999999999999999999999999999999999999999999999999999999999999999999999999999999999999999999999999999999999999999999999999999999999999999999999999999999999999999999999999999999999999999999999999999999999999999999999999999999999999999999999999999999999999999999999999999999999999999999999999999999999999999999999999999999999999999999999999999999999999999999999999999999999999999999999999999999999999999999999999999999999999999999999999999999999999999999999999999999999999999999999999999999999999999999999999999999999999999999999999999999999999999999999999999999999999999999999999999999999999999999999999999999999999999999999999999999999999999999999999999999999999999999999999999999999999999999999999999999999999999999999999999999999999999999999999999999999999999999999999999999999999999999999999999999999999999999999999999999999999999999999999999999999999999999999999999999999999999999999999999999999999999999999999999999999999999999999999999999999999999999999999999999999999999999999999999999999999999999999999999999999999999999999999999999999999999999999999999999999999999999999999999999999999999999999999999999999999999999999999999999999999999999999999999999999999999999999999999999999999999999999999999999999999999999999999999999999999999999999999999999999999999999999999999999999999999999999999999999999999999999999999999999999999999999999999999999999999999999999999999999999999999999999999999999999999999999999999999999999999999999999999999999999999999999999999999999999999999999999999999999999999999999999999999999999999999999999999999999999999999999999999999999999999999999999999999999999999999999999999999999999999999999999999999999999999999999999999999999999999999999999999999999999999999999999999999999999999999999999999999999999999999999999999999999999999999999999999999999999999999999999999999999999999999999999999999999999999999999999999999999999999999999999999999999999999999999999999999999999999999999999999999999999999999999999999999999999999999999999999999999999999999999999999999999999999999999999999999999999999999999999999999999999999999999999999999999999999999999999999999999999999999999999999999999999999999999999999999999999999999999999999999999999999999999999999999999999999999999999999999999999999999999999999999999999999999999999999999999999999999999999999999999999999999999999999999999999999999999999999999999999999999999999999999999999999999999999999999999999999999999999999999999999999999999999999999999999999999999999999999999999"
      ]
     },
     "execution_count": 10,
     "metadata": {},
     "output_type": "execute_result"
    }
   ],
   "source": [
    "10 ** 4300 - 1"
   ]
  },
  {
   "cell_type": "markdown",
   "id": "0ed74e1c",
   "metadata": {},
   "source": [
    "The last command is perfectly legal. But it's as big a number as you can print to your screen.\n",
    "\n",
    "The next command-- the previous number plus one-- if we uncommented it and tried actually to run it, would crash. "
   ]
  },
  {
   "cell_type": "code",
   "execution_count": 11,
   "id": "3bb815f3",
   "metadata": {},
   "outputs": [],
   "source": [
    "# 10 ** 4300\n",
    "# Executing the above calculation will produce this error:\n",
    "# ValueError: Exceeds the limit (4300 digits) for integer string conversion"
   ]
  },
  {
   "cell_type": "markdown",
   "id": "cf0be501",
   "metadata": {},
   "source": [
    "The Python interpreter only lets us print numbers up to four thousand two hundred ninety-nine digits long."
   ]
  },
  {
   "cell_type": "code",
   "execution_count": 12,
   "id": "9595ce40",
   "metadata": {},
   "outputs": [
    {
     "data": {
      "text/plain": [
       "int"
      ]
     },
     "execution_count": 12,
     "metadata": {},
     "output_type": "execute_result"
    }
   ],
   "source": [
    "type(10 ** 4301)"
   ]
  },
  {
   "cell_type": "markdown",
   "id": "44cec68b",
   "metadata": {},
   "source": [
    "Even though the above number is larger than the printable limit, it can remain in memory just fine, and still works in all mathematical operations."
   ]
  },
  {
   "cell_type": "markdown",
   "id": "8fdbaa38",
   "metadata": {},
   "source": [
    "Ints can get huge. The integer data type can store in-memory numbers up to roughly 83 quintillion digits long (that's the number indicated above as `2 ** 276701161105643274210 - 1`). \n",
    "\n",
    "For all practical purposes, Python's `int` datatype type has unlimited capacity."
   ]
  },
  {
   "cell_type": "markdown",
   "id": "ecaffd65",
   "metadata": {},
   "source": [
    "### Checking the `type` of outputs"
   ]
  },
  {
   "cell_type": "markdown",
   "id": "9bf07848",
   "metadata": {},
   "source": [
    "Use the `type()` builtin function to view the type of any value. The `type` of an integer is `int`."
   ]
  },
  {
   "cell_type": "code",
   "execution_count": 13,
   "id": "873aa682",
   "metadata": {},
   "outputs": [
    {
     "data": {
      "text/plain": [
       "9"
      ]
     },
     "execution_count": 13,
     "metadata": {},
     "output_type": "execute_result"
    }
   ],
   "source": [
    "3 + 6"
   ]
  },
  {
   "cell_type": "code",
   "execution_count": 14,
   "id": "5b117526",
   "metadata": {},
   "outputs": [
    {
     "data": {
      "text/plain": [
       "int"
      ]
     },
     "execution_count": 14,
     "metadata": {},
     "output_type": "execute_result"
    }
   ],
   "source": [
    "type(3 + 6)"
   ]
  },
  {
   "cell_type": "markdown",
   "id": "b904cfa2",
   "metadata": {},
   "source": [
    "The number `9` has a type of `int`."
   ]
  },
  {
   "cell_type": "markdown",
   "id": "c7655920",
   "metadata": {},
   "source": [
    "Numbers with an `int` type interoperate with other numeric types without any need for type conversion."
   ]
  },
  {
   "cell_type": "code",
   "execution_count": 15,
   "id": "8378e1b4",
   "metadata": {},
   "outputs": [
    {
     "data": {
      "text/plain": [
       "9.0"
      ]
     },
     "execution_count": 15,
     "metadata": {},
     "output_type": "execute_result"
    }
   ],
   "source": [
    "3 + 6.0"
   ]
  },
  {
   "cell_type": "markdown",
   "id": "6b296cf5",
   "metadata": {},
   "source": [
    "When an `int` is added with a `float`, the result is a `float`."
   ]
  },
  {
   "cell_type": "code",
   "execution_count": 16,
   "id": "251bc2aa",
   "metadata": {},
   "outputs": [
    {
     "data": {
      "text/plain": [
       "float"
      ]
     },
     "execution_count": 16,
     "metadata": {},
     "output_type": "execute_result"
    }
   ],
   "source": [
    "type(3 + 6.0)"
   ]
  },
  {
   "cell_type": "markdown",
   "id": "2e68ccf5",
   "metadata": {},
   "source": [
    "### Type conversion with `int`"
   ]
  },
  {
   "cell_type": "markdown",
   "id": "8a05862a",
   "metadata": {},
   "source": [
    "You can convert numbers with type `float` into numbers with type `int` with the `int` builtin."
   ]
  },
  {
   "cell_type": "code",
   "execution_count": 17,
   "id": "45b99e0b",
   "metadata": {},
   "outputs": [
    {
     "data": {
      "text/plain": [
       "9"
      ]
     },
     "execution_count": 17,
     "metadata": {},
     "output_type": "execute_result"
    }
   ],
   "source": [
    "int(3 + 6.0)"
   ]
  },
  {
   "cell_type": "markdown",
   "id": "77b7475e",
   "metadata": {},
   "source": [
    "And we can confirm it's really an int by wrapping the operation in `type()`."
   ]
  },
  {
   "cell_type": "code",
   "execution_count": 18,
   "id": "4f315c4c",
   "metadata": {},
   "outputs": [
    {
     "data": {
      "text/plain": [
       "int"
      ]
     },
     "execution_count": 18,
     "metadata": {},
     "output_type": "execute_result"
    }
   ],
   "source": [
    "type(int(3 + 6.0))"
   ]
  },
  {
   "cell_type": "markdown",
   "id": "8184e65d",
   "metadata": {},
   "source": [
    "### Type flexibility"
   ]
  },
  {
   "cell_type": "markdown",
   "id": "f0e12f1e",
   "metadata": {},
   "source": [
    "When an int is added with a `True` or a `False`, the result is an `int`."
   ]
  },
  {
   "cell_type": "code",
   "execution_count": 19,
   "id": "bb34df16",
   "metadata": {},
   "outputs": [
    {
     "data": {
      "text/plain": [
       "4"
      ]
     },
     "execution_count": 19,
     "metadata": {},
     "output_type": "execute_result"
    }
   ],
   "source": [
    "3 + True"
   ]
  },
  {
   "cell_type": "code",
   "execution_count": 20,
   "id": "4ee739ed",
   "metadata": {},
   "outputs": [
    {
     "data": {
      "text/plain": [
       "int"
      ]
     },
     "execution_count": 20,
     "metadata": {},
     "output_type": "execute_result"
    }
   ],
   "source": [
    "type(3 + True)"
   ]
  },
  {
   "cell_type": "markdown",
   "id": "400fb54c",
   "metadata": {},
   "source": [
    "In mathematical operations between booleans and numerics, `True` has a value of 1 and `False` has the value of 0."
   ]
  },
  {
   "cell_type": "code",
   "execution_count": 21,
   "id": "c9ab4b95",
   "metadata": {},
   "outputs": [
    {
     "data": {
      "text/plain": [
       "3"
      ]
     },
     "execution_count": 21,
     "metadata": {},
     "output_type": "execute_result"
    }
   ],
   "source": [
    "3 + False"
   ]
  },
  {
   "cell_type": "markdown",
   "id": "82816013",
   "metadata": {},
   "source": [
    "The `int` builtin has `type` as its type. But it also does more than that."
   ]
  },
  {
   "cell_type": "code",
   "execution_count": 22,
   "id": "2fad4664",
   "metadata": {},
   "outputs": [
    {
     "data": {
      "text/plain": [
       "type"
      ]
     },
     "execution_count": 22,
     "metadata": {},
     "output_type": "execute_result"
    }
   ],
   "source": [
    "type(int)"
   ]
  },
  {
   "cell_type": "markdown",
   "id": "20e20800",
   "metadata": {},
   "source": [
    "Call `int` with no arguments, and you'll get 0."
   ]
  },
  {
   "cell_type": "code",
   "execution_count": 23,
   "id": "7a2df4b4",
   "metadata": {},
   "outputs": [
    {
     "data": {
      "text/plain": [
       "5"
      ]
     },
     "execution_count": 23,
     "metadata": {},
     "output_type": "execute_result"
    }
   ],
   "source": [
    "5 + int()"
   ]
  },
  {
   "cell_type": "markdown",
   "id": "96261db5",
   "metadata": {},
   "source": [
    "### Confirming type"
   ]
  },
  {
   "cell_type": "markdown",
   "id": "c574bc4f",
   "metadata": {},
   "source": [
    "Confirm a number has `int` as its `type` with another builtin, the `isinstance` builtin."
   ]
  },
  {
   "cell_type": "code",
   "execution_count": 24,
   "id": "6f4866ca",
   "metadata": {},
   "outputs": [
    {
     "data": {
      "text/plain": [
       "True"
      ]
     },
     "execution_count": 24,
     "metadata": {},
     "output_type": "execute_result"
    }
   ],
   "source": [
    "isinstance(90 * 8, int)"
   ]
  },
  {
   "cell_type": "markdown",
   "id": "e3a63bf0",
   "metadata": {},
   "source": [
    "The `True` it returned means that the result of `90 * 8` is an `int`."
   ]
  },
  {
   "cell_type": "code",
   "execution_count": 25,
   "id": "8bd160a2",
   "metadata": {},
   "outputs": [
    {
     "data": {
      "text/plain": [
       "720"
      ]
     },
     "execution_count": 25,
     "metadata": {},
     "output_type": "execute_result"
    }
   ],
   "source": [
    "90 * 8"
   ]
  },
  {
   "cell_type": "markdown",
   "id": "310dd6f1",
   "metadata": {},
   "source": [
    "We'll discuss some more handy uses for `int` after discussing \"strings\"!"
   ]
  }
 ],
 "metadata": {
  "kernelspec": {
   "display_name": "Python 3 (ipykernel)",
   "language": "python",
   "name": "python3"
  },
  "language_info": {
   "codemirror_mode": {
    "name": "ipython",
    "version": 3
   },
   "file_extension": ".py",
   "mimetype": "text/x-python",
   "name": "python",
   "nbconvert_exporter": "python",
   "pygments_lexer": "ipython3",
   "version": "3.12.4"
  }
 },
 "nbformat": 4,
 "nbformat_minor": 5
}
