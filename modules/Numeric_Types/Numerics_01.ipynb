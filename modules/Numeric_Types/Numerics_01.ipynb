{
 "cells": [
  {
   "cell_type": "markdown",
   "id": "9f169c80",
   "metadata": {},
   "source": [
    "# Python Numerics"
   ]
  },
  {
   "cell_type": "markdown",
   "id": "57b9ff18",
   "metadata": {},
   "source": [
    "Python has three numeric data types: `int`, `float`, and `complex`."
   ]
  },
  {
   "cell_type": "markdown",
   "id": "1c4fe025",
   "metadata": {},
   "source": [
    "## Part 1: Integers"
   ]
  },
  {
   "cell_type": "markdown",
   "id": "ee36eaff",
   "metadata": {},
   "source": [
    "An integer is any whole number, positive or negative."
   ]
  },
  {
   "cell_type": "code",
   "execution_count": 1,
   "id": "2375beb0",
   "metadata": {},
   "outputs": [
    {
     "data": {
      "text/plain": [
       "1066"
      ]
     },
     "execution_count": 1,
     "metadata": {},
     "output_type": "execute_result"
    }
   ],
   "source": [
    "1066"
   ]
  },
  {
   "cell_type": "code",
   "execution_count": 2,
   "id": "68f6f4be",
   "metadata": {},
   "outputs": [
    {
     "data": {
      "text/plain": [
       "-5"
      ]
     },
     "execution_count": 2,
     "metadata": {},
     "output_type": "execute_result"
    }
   ],
   "source": [
    "-5"
   ]
  },
  {
   "cell_type": "markdown",
   "id": "88e01df0",
   "metadata": {},
   "source": [
    "When typing out large integers, you can insert underscores for legibility."
   ]
  },
  {
   "cell_type": "code",
   "execution_count": 3,
   "id": "b3b8013f",
   "metadata": {},
   "outputs": [
    {
     "data": {
      "text/plain": [
       "1000001024"
      ]
     },
     "execution_count": 3,
     "metadata": {},
     "output_type": "execute_result"
    }
   ],
   "source": [
    "1_000_001_024"
   ]
  },
  {
   "cell_type": "markdown",
   "id": "f63a5b72",
   "metadata": {},
   "source": [
    "Some programming languages have limits to the size of integers. This limitation exists for Python as well, but in practice, you can't reach it."
   ]
  },
  {
   "cell_type": "code",
   "execution_count": 4,
   "id": "02b35f4b",
   "metadata": {},
   "outputs": [],
   "source": [
    "# 2 ** (276_701_161_105_643_274_210) - 1\n",
    "\n",
    "# Normal consumer hardware cannot complete this calculation before exhausting memory"
   ]
  },
  {
   "cell_type": "markdown",
   "id": "4caa713d",
   "metadata": {},
   "source": [
    "On 64-bit machines, Python integers can reach a size up to 2 to the power of 276,701,161,105,643,274,210 (_two hundred seventy-six quintillion, seven hundred one quadrillion, one hundred sixty-one trillion, one hundred five billion, six hundred forty-three million, two hundred seventy four thousand, two hundred ten_) minus 1."
   ]
  },
  {
   "cell_type": "markdown",
   "id": "b4d9c5d6",
   "metadata": {},
   "source": [
    "And just because you can store numeric values up to essentially arbitrary sizes in a Python `int`, doesn't mean you'll be able to print that value to your terminal screen or to a log file."
   ]
  },
  {
   "cell_type": "code",
   "execution_count": 5,
   "id": "b2671da2",
   "metadata": {},
   "outputs": [
    {
     "data": {
      "text/plain": [
       "9999999999999999999999999999999999999999999999999999999999999999999999999999999999999999999999999999999999999999999999999999999999999999999999999999999999999999999999999999999999999999999999999999999999999999999999999999999999999999999999999999999999999999999999999999999999999999999999999999999999999999999999999999999999999999999999999999999999999999999999999999999999999999999999999999999999999999999999999999999999999999999999999999999999999999999999999999999999999999999999999999999999999999999999999999999999999999999999999999999999999999999999999999999999999999999999999999999999999999999999999999999999999999999999999999999999999999999999999999999999999999999999999999999999999999999999999999999999999999999999999999999999999999999999999999999999999999999999999999999999999999999999999999999999999999999999999999999999999999999999999999999999999999999999999999999999999999999999999999999999999999999999999999999999999999999999999999999999999999999999999999999999999999999999999999999999999999999999999999999999999999999999999999999999999999999999999999999999999999999999999999999999999999999999999999999999999999999999999999999999999999999999999999999999999999999999999999999999999999999999999999999999999999999999999999999999999999999999999999999999999999999999999999999999999999999999999999999999999999999999999999999999999999999999999999999999999999999999999999999999999999999999999999999999999999999999999999999999999999999999999999999999999999999999999999999999999999999999999999999999999999999999999999999999999999999999999999999999999999999999999999999999999999999999999999999999999999999999999999999999999999999999999999999999999999999999999999999999999999999999999999999999999999999999999999999999999999999999999999999999999999999999999999999999999999999999999999999999999999999999999999999999999999999999999999999999999999999999999999999999999999999999999999999999999999999999999999999999999999999999999999999999999999999999999999999999999999999999999999999999999999999999999999999999999999999999999999999999999999999999999999999999999999999999999999999999999999999999999999999999999999999999999999999999999999999999999999999999999999999999999999999999999999999999999999999999999999999999999999999999999999999999999999999999999999999999999999999999999999999999999999999999999999999999999999999999999999999999999999999999999999999999999999999999999999999999999999999999999999999999999999999999999999999999999999999999999999999999999999999999999999999999999999999999999999999999999999999999999999999999999999999999999999999999999999999999999999999999999999999999999999999999999999999999999999999999999999999999999999999999999999999999999999999999999999999999999999999999999999999999999999999999999999999999999999999999999999999999999999999999999999999999999999999999999999999999999999999999999999999999999999999999999999999999999999999999999999999999999999999999999999999999999999999999999999999999999999999999999999999999999999999999999999999999999999999999999999999999999999999999999999999999999999999999999999999999999999999999999999999999999999999999999999999999999999999999999999999999999999999999999999999999999999999999999999999999999999999999999999999999999999999999999999999999999999999999999999999999999999999999999999999999999999999999999999999999999999999999999999999999999999999999999999999999999999999999999999999999999999999999999999999999999999999999999999999999999999999999999999999999999999999999999999999999999999999999999999999999999999999999999999999999999999999999999999999999999999999999999999999999999999999999999999999999999999999999999999999999999999999999999999999999999999999999999999999999999999999999999999999999999999999999999999999999999999999999999999999999999999999999999999999999999999999999999999999999999999999999999999999999999999999999999999999999999999999999999999999999999999999999999999999999999999999999999999999999999999999999999999999999999999999999999999999999999999999999999999999999999999999999999999999999999999999999999999999999999999999999999999999999999999999999999999999999999999999999999999999999999999999999999999999999999999999999999999999999999999999999999999999999999999999999999999999999999999999999999999999999999999999999999999999999999999999999999999999999999999999999999999999999999999999999999999999999999999999999999999"
      ]
     },
     "execution_count": 5,
     "metadata": {},
     "output_type": "execute_result"
    }
   ],
   "source": [
    "10 ** 4300 - 1"
   ]
  },
  {
   "cell_type": "markdown",
   "id": "c1920f34",
   "metadata": {},
   "source": [
    "The last command is perfectly legal. But it's as big a number as you can print to your screen.\n",
    "\n",
    "The next command-- the previous number plus one-- if we uncommented it and tried actually to run it, would crash. "
   ]
  },
  {
   "cell_type": "code",
   "execution_count": 6,
   "id": "d94f1d10",
   "metadata": {},
   "outputs": [],
   "source": [
    "# 10 ** 4300\n",
    "# Executing the above calculation will produce this error:\n",
    "# ValueError: Exceeds the limit (4300 digits) for integer string conversion"
   ]
  },
  {
   "cell_type": "markdown",
   "id": "32a75071",
   "metadata": {},
   "source": [
    "The Python interpreter only lets us print numbers up to four thousand two hundred ninety-nine digits long."
   ]
  },
  {
   "cell_type": "code",
   "execution_count": 7,
   "id": "f44a1027",
   "metadata": {},
   "outputs": [
    {
     "data": {
      "text/plain": [
       "int"
      ]
     },
     "execution_count": 7,
     "metadata": {},
     "output_type": "execute_result"
    }
   ],
   "source": [
    "type(10 ** 4401)"
   ]
  },
  {
   "cell_type": "markdown",
   "id": "e9f0ac3a",
   "metadata": {},
   "source": [
    "Even though the above number is larger than the printable limit, it can remain in memory just fine, and still works in all mathematical operations."
   ]
  },
  {
   "cell_type": "markdown",
   "id": "6f333f8a",
   "metadata": {},
   "source": [
    "Ints can get huge. The integer data type can store in-memory numbers up to roughly 83 quintillion digits long (that's the number indicated above as `2 ** 276701161105643274210 - 1`). \n",
    "\n",
    "For all practical purposes, Python's `int` datatype type has unlimited capacity."
   ]
  },
  {
   "cell_type": "markdown",
   "id": "320052b2",
   "metadata": {},
   "source": [
    "### Checking the `type` of your output"
   ]
  },
  {
   "cell_type": "markdown",
   "id": "aa96751a",
   "metadata": {},
   "source": [
    "Use the `type()` builtin function to view the type of any value. The `type` of an integer is `int`."
   ]
  },
  {
   "cell_type": "code",
   "execution_count": 8,
   "id": "c625a3a6",
   "metadata": {},
   "outputs": [
    {
     "data": {
      "text/plain": [
       "9"
      ]
     },
     "execution_count": 8,
     "metadata": {},
     "output_type": "execute_result"
    }
   ],
   "source": [
    "3 + 6"
   ]
  },
  {
   "cell_type": "code",
   "execution_count": 9,
   "id": "628d3dbd",
   "metadata": {},
   "outputs": [
    {
     "data": {
      "text/plain": [
       "int"
      ]
     },
     "execution_count": 9,
     "metadata": {},
     "output_type": "execute_result"
    }
   ],
   "source": [
    "type(3 + 6)"
   ]
  },
  {
   "cell_type": "markdown",
   "id": "ee907a96",
   "metadata": {},
   "source": [
    "The number `9` has a type of `int`."
   ]
  },
  {
   "cell_type": "markdown",
   "id": "376af2e7",
   "metadata": {},
   "source": [
    "Numbers with an `int` type interoperate with other numeric types without any need for type conversion."
   ]
  },
  {
   "cell_type": "code",
   "execution_count": 10,
   "id": "01da1778",
   "metadata": {},
   "outputs": [
    {
     "data": {
      "text/plain": [
       "9.0"
      ]
     },
     "execution_count": 10,
     "metadata": {},
     "output_type": "execute_result"
    }
   ],
   "source": [
    "3 + 6.0"
   ]
  },
  {
   "cell_type": "markdown",
   "id": "4765013e",
   "metadata": {},
   "source": [
    "When an `int` is added with a `float`, the result is a `float`."
   ]
  },
  {
   "cell_type": "code",
   "execution_count": 11,
   "id": "ede506b8",
   "metadata": {},
   "outputs": [
    {
     "data": {
      "text/plain": [
       "float"
      ]
     },
     "execution_count": 11,
     "metadata": {},
     "output_type": "execute_result"
    }
   ],
   "source": [
    "type(3 + 6.0)"
   ]
  },
  {
   "cell_type": "markdown",
   "id": "cb404b3e",
   "metadata": {},
   "source": [
    "### Typecasting with `int`"
   ]
  },
  {
   "cell_type": "markdown",
   "id": "07f7f96f",
   "metadata": {},
   "source": [
    "You can convert numbers with type `float` into numbers with type `int` with the `int` builtin."
   ]
  },
  {
   "cell_type": "code",
   "execution_count": 12,
   "id": "893b3120",
   "metadata": {},
   "outputs": [
    {
     "data": {
      "text/plain": [
       "9"
      ]
     },
     "execution_count": 12,
     "metadata": {},
     "output_type": "execute_result"
    }
   ],
   "source": [
    "int(3 + 6.0)"
   ]
  },
  {
   "cell_type": "markdown",
   "id": "8ef0caea",
   "metadata": {},
   "source": [
    "And we can confirm it's really an int by wrapping the operation in `type()`."
   ]
  },
  {
   "cell_type": "code",
   "execution_count": 13,
   "id": "1ae4f2fd",
   "metadata": {},
   "outputs": [
    {
     "data": {
      "text/plain": [
       "int"
      ]
     },
     "execution_count": 13,
     "metadata": {},
     "output_type": "execute_result"
    }
   ],
   "source": [
    "type(int(3 + 6.0))"
   ]
  },
  {
   "cell_type": "markdown",
   "id": "6e6f69ca",
   "metadata": {},
   "source": [
    "When an int is added with a `True` or a `False`, the result is an `int`."
   ]
  },
  {
   "cell_type": "code",
   "execution_count": 14,
   "id": "0bb2b41a",
   "metadata": {},
   "outputs": [
    {
     "data": {
      "text/plain": [
       "4"
      ]
     },
     "execution_count": 14,
     "metadata": {},
     "output_type": "execute_result"
    }
   ],
   "source": [
    "3 + True"
   ]
  },
  {
   "cell_type": "code",
   "execution_count": 15,
   "id": "c78e759f",
   "metadata": {},
   "outputs": [
    {
     "data": {
      "text/plain": [
       "int"
      ]
     },
     "execution_count": 15,
     "metadata": {},
     "output_type": "execute_result"
    }
   ],
   "source": [
    "type(True + 3)"
   ]
  },
  {
   "cell_type": "markdown",
   "id": "0105a442",
   "metadata": {},
   "source": [
    "In mathematical operations with numerics, True has a value of 1 and False has the value of 0."
   ]
  },
  {
   "cell_type": "code",
   "execution_count": 16,
   "id": "7513b074",
   "metadata": {},
   "outputs": [
    {
     "data": {
      "text/plain": [
       "3"
      ]
     },
     "execution_count": 16,
     "metadata": {},
     "output_type": "execute_result"
    }
   ],
   "source": [
    "3 + False"
   ]
  },
  {
   "cell_type": "markdown",
   "id": "449e952e",
   "metadata": {},
   "source": [
    "The `int` builtin has `type` as its type. But it also does more than that."
   ]
  },
  {
   "cell_type": "code",
   "execution_count": 17,
   "id": "bb4a7ab0",
   "metadata": {},
   "outputs": [
    {
     "data": {
      "text/plain": [
       "type"
      ]
     },
     "execution_count": 17,
     "metadata": {},
     "output_type": "execute_result"
    }
   ],
   "source": [
    "type(int)"
   ]
  },
  {
   "cell_type": "markdown",
   "id": "d7d114c9",
   "metadata": {},
   "source": [
    "Call `int` with no arguments, and you'll get 0."
   ]
  },
  {
   "cell_type": "code",
   "execution_count": 18,
   "id": "3d332ffc",
   "metadata": {},
   "outputs": [
    {
     "data": {
      "text/plain": [
       "0"
      ]
     },
     "execution_count": 18,
     "metadata": {},
     "output_type": "execute_result"
    }
   ],
   "source": [
    "7 * int()"
   ]
  },
  {
   "cell_type": "markdown",
   "id": "a0d602ef",
   "metadata": {},
   "source": [
    "Confirm a number has `int` as its `type` with another builtin, the `isinstance` builtin."
   ]
  },
  {
   "cell_type": "code",
   "execution_count": 19,
   "id": "2a7122df",
   "metadata": {},
   "outputs": [
    {
     "data": {
      "text/plain": [
       "True"
      ]
     },
     "execution_count": 19,
     "metadata": {},
     "output_type": "execute_result"
    }
   ],
   "source": [
    "isinstance(90 + 1, int)"
   ]
  },
  {
   "cell_type": "code",
   "execution_count": null,
   "id": "75ad5391",
   "metadata": {},
   "outputs": [],
   "source": [
    "The `True` it returned means that 91 is an `int`."
   ]
  },
  {
   "cell_type": "markdown",
   "id": "ea5fb70b",
   "metadata": {},
   "source": [
    "We'll discuss some more handy uses for `int` after discussing \"strings\"!"
   ]
  }
 ],
 "metadata": {
  "kernelspec": {
   "display_name": "Python 3 (ipykernel)",
   "language": "python",
   "name": "python3"
  },
  "language_info": {
   "codemirror_mode": {
    "name": "ipython",
    "version": 3
   },
   "file_extension": ".py",
   "mimetype": "text/x-python",
   "name": "python",
   "nbconvert_exporter": "python",
   "pygments_lexer": "ipython3",
   "version": "3.12.4"
  }
 },
 "nbformat": 4,
 "nbformat_minor": 5
}
