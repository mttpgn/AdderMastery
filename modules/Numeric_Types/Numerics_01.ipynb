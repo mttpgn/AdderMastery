{
 "cells": [
  {
   "cell_type": "markdown",
   "id": "01ca527d",
   "metadata": {},
   "source": [
    "# Python Numerics"
   ]
  },
  {
   "cell_type": "markdown",
   "id": "7cf57f67",
   "metadata": {},
   "source": [
    "Python has three numeric data types: `int`, `float`, and `complex`."
   ]
  },
  {
   "cell_type": "markdown",
   "id": "9ea4dcdb",
   "metadata": {},
   "source": [
    "## Part 1: Integers"
   ]
  },
  {
   "cell_type": "markdown",
   "id": "898be4f6",
   "metadata": {},
   "source": [
    "An integer is any whole number, positive or negative."
   ]
  },
  {
   "cell_type": "code",
   "execution_count": null,
   "id": "e4d5f5af",
   "metadata": {},
   "outputs": [],
   "source": [
    "1066"
   ]
  },
  {
   "cell_type": "code",
   "execution_count": null,
   "id": "b738b4dc",
   "metadata": {},
   "outputs": [],
   "source": [
    "-4"
   ]
  },
  {
   "cell_type": "markdown",
   "id": "7c1bd767",
   "metadata": {},
   "source": [
    "When typing out large integers, you can insert underscores for legibility."
   ]
  },
  {
   "cell_type": "code",
   "execution_count": null,
   "id": "41605547",
   "metadata": {},
   "outputs": [],
   "source": [
    "1_000_000_000"
   ]
  },
  {
   "cell_type": "markdown",
   "id": "46cfe118",
   "metadata": {},
   "source": [
    "Some programming languages have limits to the size of integers. This limitation exists for Python as well, but in practice, you can't reach it."
   ]
  },
  {
   "cell_type": "code",
   "execution_count": null,
   "id": "9a2361a5",
   "metadata": {},
   "outputs": [],
   "source": [
    "# 2 ** (276_701_161_105_643_274_210) - 1\n",
    "\n",
    "# Normal consumer hardware cannot complete this calculation before exhausting memory"
   ]
  },
  {
   "cell_type": "markdown",
   "id": "afa508f4",
   "metadata": {},
   "source": [
    "On 64-bit machines, Python integers can reach a size up to 2 to the power of 276,701,161,105,643,274,210 (_two hundred seventy-six quintillion, seven hundred one quadrillion, one hundred sixty-one trillion, one hundred five billion, six hundred forty-three million, two hundred seventy four thousand, two hundred ten_) minus 1."
   ]
  },
  {
   "cell_type": "markdown",
   "id": "30042b0d",
   "metadata": {},
   "source": [
    "And just because you can store numeric values up to essentially arbitrary sizes in a Python `int`, doesn't mean you'll be able to print that value to your terminal screen or to a log file."
   ]
  },
  {
   "cell_type": "code",
   "execution_count": null,
   "id": "ee9e1509",
   "metadata": {},
   "outputs": [],
   "source": [
    "10 ** 4300 - 1"
   ]
  },
  {
   "cell_type": "markdown",
   "id": "81c3f8d6",
   "metadata": {},
   "source": [
    "The last command is perfectly legal. But it's as big a number as you can print to your screen.\n",
    "\n",
    "The next command-- the previous number plus one-- if we uncommented it and tried actually to run it, would crash. "
   ]
  },
  {
   "cell_type": "code",
   "execution_count": null,
   "id": "740dddc7",
   "metadata": {},
   "outputs": [],
   "source": [
    "# 10 ** 4300\n",
    "# Executing the above calculation will produce this error:\n",
    "# ValueError: Exceeds the limit (4300 digits) for integer string conversion"
   ]
  },
  {
   "cell_type": "markdown",
   "id": "c190621f",
   "metadata": {},
   "source": [
    "The Python interpreter only lets us print numbers up to four thousand two hundred ninety-nine digits long."
   ]
  },
  {
   "cell_type": "code",
   "execution_count": null,
   "id": "9eff9707",
   "metadata": {},
   "outputs": [],
   "source": [
    "type(10 ** 4301)"
   ]
  },
  {
   "cell_type": "markdown",
   "id": "7366b6ba",
   "metadata": {},
   "source": [
    "Even though the above number is larger than the printable limit, it can remain in memory just fine, and still works in all mathematical operations."
   ]
  },
  {
   "cell_type": "markdown",
   "id": "a8a1d011",
   "metadata": {},
   "source": [
    "Ints can get huge. The integer data type can store in-memory numbers up to roughly 83 quintillion digits long (that's the number indicated above as `2 ** 276701161105643274210 - 1`). \n",
    "\n",
    "For all practical purposes, Python's `int` datatype type has unlimited capacity."
   ]
  },
  {
   "cell_type": "markdown",
   "id": "617021af",
   "metadata": {},
   "source": [
    "### Checking the `type` of your output"
   ]
  },
  {
   "cell_type": "markdown",
   "id": "00ec33d6",
   "metadata": {},
   "source": [
    "Use the `type()` builtin function to view the type of any value. The `type` of an integer is `int`."
   ]
  },
  {
   "cell_type": "code",
   "execution_count": null,
   "id": "712aacee",
   "metadata": {},
   "outputs": [],
   "source": [
    "3 + 6"
   ]
  },
  {
   "cell_type": "code",
   "execution_count": null,
   "id": "eb8d8809",
   "metadata": {},
   "outputs": [],
   "source": [
    "type(3 + 6)"
   ]
  },
  {
   "cell_type": "markdown",
   "id": "de6f2272",
   "metadata": {},
   "source": [
    "The number `9` has a type of `int`."
   ]
  },
  {
   "cell_type": "markdown",
   "id": "930b9e74",
   "metadata": {},
   "source": [
    "Numbers with an `int` type interoperate with other numeric types without any need for type conversion."
   ]
  },
  {
   "cell_type": "code",
   "execution_count": null,
   "id": "05ffc097",
   "metadata": {},
   "outputs": [],
   "source": [
    "3 + 6.0"
   ]
  },
  {
   "cell_type": "markdown",
   "id": "e2e3f0e3",
   "metadata": {},
   "source": [
    "When an `int` is added with a `float`, the result is a `float`."
   ]
  },
  {
   "cell_type": "code",
   "execution_count": null,
   "id": "58a37707",
   "metadata": {},
   "outputs": [],
   "source": [
    "type(3 + 6.0)"
   ]
  },
  {
   "cell_type": "markdown",
   "id": "ad117872",
   "metadata": {},
   "source": [
    "### Typecasting with `int`"
   ]
  },
  {
   "cell_type": "markdown",
   "id": "6080ba82",
   "metadata": {},
   "source": [
    "You can convert numbers with type `float` into numbers with type `int` with the `int` builtin."
   ]
  },
  {
   "cell_type": "code",
   "execution_count": null,
   "id": "e2a91d6f",
   "metadata": {},
   "outputs": [],
   "source": [
    "int(3 + 6.0)"
   ]
  },
  {
   "cell_type": "markdown",
   "id": "60145ec9",
   "metadata": {},
   "source": [
    "And we can confirm it's really an int by wrapping the operation in `type()`."
   ]
  },
  {
   "cell_type": "code",
   "execution_count": null,
   "id": "4c4e0ab8",
   "metadata": {},
   "outputs": [],
   "source": [
    "type(int(3 + 6.0))"
   ]
  },
  {
   "cell_type": "markdown",
   "id": "0859af38",
   "metadata": {},
   "source": [
    "When an int is added with a `True` or a `False`, the result is an `int`."
   ]
  },
  {
   "cell_type": "code",
   "execution_count": null,
   "id": "f6a95ac6",
   "metadata": {},
   "outputs": [],
   "source": [
    "3 + True"
   ]
  },
  {
   "cell_type": "code",
   "execution_count": null,
   "id": "e2c7fdbd",
   "metadata": {},
   "outputs": [],
   "source": [
    "type(3 + True)"
   ]
  },
  {
   "cell_type": "markdown",
   "id": "a20613a8",
   "metadata": {},
   "source": [
    "In mathematical operations with numerics, True has a value of 1 and False has the value of 0."
   ]
  },
  {
   "cell_type": "code",
   "execution_count": null,
   "id": "bb7cfa4a",
   "metadata": {},
   "outputs": [],
   "source": [
    "3 + False"
   ]
  },
  {
   "cell_type": "markdown",
   "id": "2e131e91",
   "metadata": {},
   "source": [
    "The `int` builtin has `type` as its type. But it also does more than that."
   ]
  },
  {
   "cell_type": "code",
   "execution_count": null,
   "id": "7d065f16",
   "metadata": {},
   "outputs": [],
   "source": [
    "type(int)"
   ]
  },
  {
   "cell_type": "markdown",
   "id": "270d17b9",
   "metadata": {},
   "source": [
    "Call `int` with no arguments, and you'll get 0."
   ]
  },
  {
   "cell_type": "code",
   "execution_count": null,
   "id": "b5667a56",
   "metadata": {},
   "outputs": [],
   "source": [
    "5 + int()"
   ]
  },
  {
   "cell_type": "markdown",
   "id": "398406da",
   "metadata": {},
   "source": [
    "Confirm a number has `int` as its `type` with another builtin, the `isinstance` builtin."
   ]
  },
  {
   "cell_type": "code",
   "execution_count": null,
   "id": "a293e564",
   "metadata": {},
   "outputs": [],
   "source": [
    "isinstance(90 * 8, int)"
   ]
  },
  {
   "cell_type": "markdown",
   "id": "440c08fc",
   "metadata": {},
   "source": [
    "The `True` it returned means that 91 is an `int`."
   ]
  },
  {
   "cell_type": "markdown",
   "id": "1ceee301",
   "metadata": {},
   "source": [
    "We'll discuss some more handy uses for `int` after discussing \"strings\"!"
   ]
  }
 ],
 "metadata": {
  "kernelspec": {
   "display_name": "Python 3 (ipykernel)",
   "language": "python",
   "name": "python3"
  },
  "language_info": {
   "codemirror_mode": {
    "name": "ipython",
    "version": 3
   },
   "file_extension": ".py",
   "mimetype": "text/x-python",
   "name": "python",
   "nbconvert_exporter": "python",
   "pygments_lexer": "ipython3",
   "version": "3.12.4"
  }
 },
 "nbformat": 4,
 "nbformat_minor": 5
}
