{
 "cells": [
  {
   "cell_type": "markdown",
   "id": "8265c445",
   "metadata": {},
   "source": [
    "# Python Numerics"
   ]
  },
  {
   "cell_type": "markdown",
   "id": "ef664736",
   "metadata": {},
   "source": [
    "Python has three numeric data types: `int`, `float`, and `complex`."
   ]
  },
  {
   "cell_type": "markdown",
   "id": "77f75aa1",
   "metadata": {},
   "source": [
    "## Part 1: Integers"
   ]
  },
  {
   "cell_type": "markdown",
   "id": "33db2a70",
   "metadata": {},
   "source": [
    "An integer is any whole number, positive or negative."
   ]
  },
  {
   "cell_type": "code",
   "execution_count": 134,
   "id": "41dd06c2",
   "metadata": {},
   "outputs": [
    {
     "data": {
      "text/plain": [
       "1066"
      ]
     },
     "execution_count": 134,
     "metadata": {},
     "output_type": "execute_result"
    }
   ],
   "source": [
    "1066"
   ]
  },
  {
   "cell_type": "markdown",
   "id": "1781b5b2",
   "metadata": {},
   "source": [
    "When typing out large integers, you can insert underscores for legibility."
   ]
  },
  {
   "cell_type": "code",
   "execution_count": 135,
   "id": "c7ef8e4d",
   "metadata": {},
   "outputs": [
    {
     "data": {
      "text/plain": [
       "1000001024"
      ]
     },
     "execution_count": 135,
     "metadata": {},
     "output_type": "execute_result"
    }
   ],
   "source": [
    "1_000_001_024"
   ]
  },
  {
   "cell_type": "markdown",
   "id": "de0c5a56",
   "metadata": {},
   "source": [
    "Some programming languages have limits to the size of integers. This limitation exists for Python as well, but in practice, you can't reach it."
   ]
  },
  {
   "cell_type": "code",
   "execution_count": 136,
   "id": "0c33fb89",
   "metadata": {},
   "outputs": [],
   "source": [
    "# 2 ** (276_701_161_105_643_274_210) - 1\n",
    "# Do not uncomment and actually execute the above, since normal machine\n",
    "# hardware runs out of memory before completing the calculation."
   ]
  },
  {
   "cell_type": "markdown",
   "id": "a16df3c5",
   "metadata": {},
   "source": [
    "On 64-bit machines, Python integers can reach a size up to 2 to the power of 276,701,161,105,643,274,210 (_two hundred seventy-six quintillion, seven hundred one quadrillion, one hundred sixty-one trillion, one hundred five billion, six hundred forty-three million, two hundred seventy four thousand, two hundred ten_) minus 1."
   ]
  },
  {
   "cell_type": "markdown",
   "id": "dc985dca",
   "metadata": {},
   "source": [
    "And just because you can store numeric values up to essentially arbitrary sizes in a Python int, doesn't mean you'll be able to print that value to your terminal screen or to a log file."
   ]
  },
  {
   "cell_type": "code",
   "execution_count": 137,
   "id": "9b4c08af",
   "metadata": {},
   "outputs": [
    {
     "data": {
      "text/plain": [
       "9999999999999999999999999999999999999999999999999999999999999999999999999999999999999999999999999999999999999999999999999999999999999999999999999999999999999999999999999999999999999999999999999999999999999999999999999999999999999999999999999999999999999999999999999999999999999999999999999999999999999999999999999999999999999999999999999999999999999999999999999999999999999999999999999999999999999999999999999999999999999999999999999999999999999999999999999999999999999999999999999999999999999999999999999999999999999999999999999999999999999999999999999999999999999999999999999999999999999999999999999999999999999999999999999999999999999999999999999999999999999999999999999999999999999999999999999999999999999999999999999999999999999999999999999999999999999999999999999999999999999999999999999999999999999999999999999999999999999999999999999999999999999999999999999999999999999999999999999999999999999999999999999999999999999999999999999999999999999999999999999999999999999999999999999999999999999999999999999999999999999999999999999999999999999999999999999999999999999999999999999999999999999999999999999999999999999999999999999999999999999999999999999999999999999999999999999999999999999999999999999999999999999999999999999999999999999999999999999999999999999999999999999999999999999999999999999999999999999999999999999999999999999999999999999999999999999999999999999999999999999999999999999999999999999999999999999999999999999999999999999999999999999999999999999999999999999999999999999999999999999999999999999999999999999999999999999999999999999999999999999999999999999999999999999999999999999999999999999999999999999999999999999999999999999999999999999999999999999999999999999999999999999999999999999999999999999999999999999999999999999999999999999999999999999999999999999999999999999999999999999999999999999999999999999999999999999999999999999999999999999999999999999999999999999999999999999999999999999999999999999999999999999999999999999999999999999999999999999999999999999999999999999999999999999999999999999999999999999999999999999999999999999999999999999999999999999999999999999999999999999999999999999999999999999999999999999999999999999999999999999999999999999999999999999999999999999999999999999999999999999999999999999999999999999999999999999999999999999999999999999999999999999999999999999999999999999999999999999999999999999999999999999999999999999999999999999999999999999999999999999999999999999999999999999999999999999999999999999999999999999999999999999999999999999999999999999999999999999999999999999999999999999999999999999999999999999999999999999999999999999999999999999999999999999999999999999999999999999999999999999999999999999999999999999999999999999999999999999999999999999999999999999999999999999999999999999999999999999999999999999999999999999999999999999999999999999999999999999999999999999999999999999999999999999999999999999999999999999999999999999999999999999999999999999999999999999999999999999999999999999999999999999999999999999999999999999999999999999999999999999999999999999999999999999999999999999999999999999999999999999999999999999999999999999999999999999999999999999999999999999999999999999999999999999999999999999999999999999999999999999999999999999999999999999999999999999999999999999999999999999999999999999999999999999999999999999999999999999999999999999999999999999999999999999999999999999999999999999999999999999999999999999999999999999999999999999999999999999999999999999999999999999999999999999999999999999999999999999999999999999999999999999999999999999999999999999999999999999999999999999999999999999999999999999999999999999999999999999999999999999999999999999999999999999999999999999999999999999999999999999999999999999999999999999999999999999999999999999999999999999999999999999999999999999999999999999999999999999999999999999999999999999999999999999999999999999999999999999999999999999999999999999999999999999999999999999999999999999999999999999999999999999999999999999999999999999999999999999999999999999999999999999999999999999999999999999999999999999999999999999999999999999999999999999999999999999999999999999999999999999999999999999999999999999999999999999999999999999999999999999999999999999999999999999999999999999999999999999999999999999999999999999999999999999999999999999999999999999999999999999999999999999999999999999999999999999999"
      ]
     },
     "execution_count": 137,
     "metadata": {},
     "output_type": "execute_result"
    }
   ],
   "source": [
    "10 ** 4300 - 1"
   ]
  },
  {
   "cell_type": "markdown",
   "id": "267f0634",
   "metadata": {},
   "source": [
    "The last command is perfectly legal. But the next command will crash because the Python interpreter only lets us print numbers up to four thousand three hundred digits long."
   ]
  },
  {
   "cell_type": "code",
   "execution_count": 138,
   "id": "cecc45f1",
   "metadata": {},
   "outputs": [
    {
     "ename": "ValueError",
     "evalue": "Exceeds the limit (4300 digits) for integer string conversion; use sys.set_int_max_str_digits() to increase the limit",
     "output_type": "error",
     "traceback": [
      "\u001b[0;31m---------------------------------------------------------------------------\u001b[0m",
      "\u001b[0;31mValueError\u001b[0m                                Traceback (most recent call last)",
      "File \u001b[0;32m/Library/Frameworks/Python.framework/Versions/3.12/lib/python3.12/site-packages/IPython/core/formatters.py:711\u001b[0m, in \u001b[0;36mPlainTextFormatter.__call__\u001b[0;34m(self, obj)\u001b[0m\n\u001b[1;32m    704\u001b[0m stream \u001b[38;5;241m=\u001b[39m StringIO()\n\u001b[1;32m    705\u001b[0m printer \u001b[38;5;241m=\u001b[39m pretty\u001b[38;5;241m.\u001b[39mRepresentationPrinter(stream, \u001b[38;5;28mself\u001b[39m\u001b[38;5;241m.\u001b[39mverbose,\n\u001b[1;32m    706\u001b[0m     \u001b[38;5;28mself\u001b[39m\u001b[38;5;241m.\u001b[39mmax_width, \u001b[38;5;28mself\u001b[39m\u001b[38;5;241m.\u001b[39mnewline,\n\u001b[1;32m    707\u001b[0m     max_seq_length\u001b[38;5;241m=\u001b[39m\u001b[38;5;28mself\u001b[39m\u001b[38;5;241m.\u001b[39mmax_seq_length,\n\u001b[1;32m    708\u001b[0m     singleton_pprinters\u001b[38;5;241m=\u001b[39m\u001b[38;5;28mself\u001b[39m\u001b[38;5;241m.\u001b[39msingleton_printers,\n\u001b[1;32m    709\u001b[0m     type_pprinters\u001b[38;5;241m=\u001b[39m\u001b[38;5;28mself\u001b[39m\u001b[38;5;241m.\u001b[39mtype_printers,\n\u001b[1;32m    710\u001b[0m     deferred_pprinters\u001b[38;5;241m=\u001b[39m\u001b[38;5;28mself\u001b[39m\u001b[38;5;241m.\u001b[39mdeferred_printers)\n\u001b[0;32m--> 711\u001b[0m \u001b[43mprinter\u001b[49m\u001b[38;5;241;43m.\u001b[39;49m\u001b[43mpretty\u001b[49m\u001b[43m(\u001b[49m\u001b[43mobj\u001b[49m\u001b[43m)\u001b[49m\n\u001b[1;32m    712\u001b[0m printer\u001b[38;5;241m.\u001b[39mflush()\n\u001b[1;32m    713\u001b[0m \u001b[38;5;28;01mreturn\u001b[39;00m stream\u001b[38;5;241m.\u001b[39mgetvalue()\n",
      "File \u001b[0;32m/Library/Frameworks/Python.framework/Versions/3.12/lib/python3.12/site-packages/IPython/lib/pretty.py:394\u001b[0m, in \u001b[0;36mRepresentationPrinter.pretty\u001b[0;34m(self, obj)\u001b[0m\n\u001b[1;32m    391\u001b[0m \u001b[38;5;28;01mfor\u001b[39;00m \u001b[38;5;28mcls\u001b[39m \u001b[38;5;129;01min\u001b[39;00m _get_mro(obj_class):\n\u001b[1;32m    392\u001b[0m     \u001b[38;5;28;01mif\u001b[39;00m \u001b[38;5;28mcls\u001b[39m \u001b[38;5;129;01min\u001b[39;00m \u001b[38;5;28mself\u001b[39m\u001b[38;5;241m.\u001b[39mtype_pprinters:\n\u001b[1;32m    393\u001b[0m         \u001b[38;5;66;03m# printer registered in self.type_pprinters\u001b[39;00m\n\u001b[0;32m--> 394\u001b[0m         \u001b[38;5;28;01mreturn\u001b[39;00m \u001b[38;5;28;43mself\u001b[39;49m\u001b[38;5;241;43m.\u001b[39;49m\u001b[43mtype_pprinters\u001b[49m\u001b[43m[\u001b[49m\u001b[38;5;28;43mcls\u001b[39;49m\u001b[43m]\u001b[49m\u001b[43m(\u001b[49m\u001b[43mobj\u001b[49m\u001b[43m,\u001b[49m\u001b[43m \u001b[49m\u001b[38;5;28;43mself\u001b[39;49m\u001b[43m,\u001b[49m\u001b[43m \u001b[49m\u001b[43mcycle\u001b[49m\u001b[43m)\u001b[49m\n\u001b[1;32m    395\u001b[0m     \u001b[38;5;28;01melse\u001b[39;00m:\n\u001b[1;32m    396\u001b[0m         \u001b[38;5;66;03m# deferred printer\u001b[39;00m\n\u001b[1;32m    397\u001b[0m         printer \u001b[38;5;241m=\u001b[39m \u001b[38;5;28mself\u001b[39m\u001b[38;5;241m.\u001b[39m_in_deferred_types(\u001b[38;5;28mcls\u001b[39m)\n",
      "File \u001b[0;32m/Library/Frameworks/Python.framework/Versions/3.12/lib/python3.12/site-packages/IPython/lib/pretty.py:787\u001b[0m, in \u001b[0;36m_repr_pprint\u001b[0;34m(obj, p, cycle)\u001b[0m\n\u001b[1;32m    785\u001b[0m \u001b[38;5;250m\u001b[39m\u001b[38;5;124;03m\"\"\"A pprint that just redirects to the normal repr function.\"\"\"\u001b[39;00m\n\u001b[1;32m    786\u001b[0m \u001b[38;5;66;03m# Find newlines and replace them with p.break_()\u001b[39;00m\n\u001b[0;32m--> 787\u001b[0m output \u001b[38;5;241m=\u001b[39m \u001b[38;5;28;43mrepr\u001b[39;49m\u001b[43m(\u001b[49m\u001b[43mobj\u001b[49m\u001b[43m)\u001b[49m\n\u001b[1;32m    788\u001b[0m lines \u001b[38;5;241m=\u001b[39m output\u001b[38;5;241m.\u001b[39msplitlines()\n\u001b[1;32m    789\u001b[0m \u001b[38;5;28;01mwith\u001b[39;00m p\u001b[38;5;241m.\u001b[39mgroup():\n",
      "\u001b[0;31mValueError\u001b[0m: Exceeds the limit (4300 digits) for integer string conversion; use sys.set_int_max_str_digits() to increase the limit"
     ]
    }
   ],
   "source": [
    "10 ** 4300"
   ]
  },
  {
   "cell_type": "markdown",
   "id": "cdbd549b",
   "metadata": {},
   "source": [
    "Ints can get huge. The integer data type can store in-memory numbers up to roughly 83 quintillion digits long (that's the number indicated above as `2 ** 276701161105643274210 - 1`). For all practical purposes, Python's `int` datatype type has unlimited capacity."
   ]
  },
  {
   "cell_type": "markdown",
   "id": "a822f2c7",
   "metadata": {},
   "source": [
    "## Checking the `type` of your output"
   ]
  },
  {
   "cell_type": "markdown",
   "id": "ba21a215",
   "metadata": {},
   "source": [
    "Use the `type()` builtin function to view the type of any value. The `type` of an integer is `int`."
   ]
  },
  {
   "cell_type": "code",
   "execution_count": 139,
   "id": "0a82c0f8",
   "metadata": {},
   "outputs": [
    {
     "data": {
      "text/plain": [
       "9"
      ]
     },
     "execution_count": 139,
     "metadata": {},
     "output_type": "execute_result"
    }
   ],
   "source": [
    "3 + 6"
   ]
  },
  {
   "cell_type": "code",
   "execution_count": 140,
   "id": "2934480e",
   "metadata": {},
   "outputs": [
    {
     "data": {
      "text/plain": [
       "int"
      ]
     },
     "execution_count": 140,
     "metadata": {},
     "output_type": "execute_result"
    }
   ],
   "source": [
    "type(3 + 6)"
   ]
  },
  {
   "cell_type": "markdown",
   "id": "9b821162",
   "metadata": {},
   "source": [
    "The number `9` has a type of `int`."
   ]
  },
  {
   "cell_type": "markdown",
   "id": "a048f4ad",
   "metadata": {},
   "source": [
    "Numbers with an `int` type interoperate with other numeric types without any need for type conversion."
   ]
  },
  {
   "cell_type": "code",
   "execution_count": 141,
   "id": "2be9c980",
   "metadata": {},
   "outputs": [
    {
     "data": {
      "text/plain": [
       "9.0"
      ]
     },
     "execution_count": 141,
     "metadata": {},
     "output_type": "execute_result"
    }
   ],
   "source": [
    "3 + 6.0"
   ]
  },
  {
   "cell_type": "markdown",
   "id": "9c39c53a",
   "metadata": {},
   "source": [
    "When an `int` is added with a `float`, the result is a `float`."
   ]
  },
  {
   "cell_type": "code",
   "execution_count": 142,
   "id": "d4266a10",
   "metadata": {},
   "outputs": [
    {
     "data": {
      "text/plain": [
       "float"
      ]
     },
     "execution_count": 142,
     "metadata": {},
     "output_type": "execute_result"
    }
   ],
   "source": [
    "type(3 + 6.0)"
   ]
  },
  {
   "cell_type": "markdown",
   "id": "7caf4d9d",
   "metadata": {},
   "source": [
    "But you can convert numbers with type `float` into numbers with type `int` with the `int` builtin."
   ]
  },
  {
   "cell_type": "code",
   "execution_count": 143,
   "id": "bee83738",
   "metadata": {},
   "outputs": [
    {
     "data": {
      "text/plain": [
       "9"
      ]
     },
     "execution_count": 143,
     "metadata": {},
     "output_type": "execute_result"
    }
   ],
   "source": [
    "int(3 + 6.0)"
   ]
  },
  {
   "cell_type": "markdown",
   "id": "1d77aed9",
   "metadata": {},
   "source": [
    "And we can confirm it's really an int by wrapping the operation in `type()`."
   ]
  },
  {
   "cell_type": "code",
   "execution_count": 145,
   "id": "c0f05467",
   "metadata": {},
   "outputs": [
    {
     "data": {
      "text/plain": [
       "int"
      ]
     },
     "execution_count": 145,
     "metadata": {},
     "output_type": "execute_result"
    }
   ],
   "source": [
    "type(int(3 + 6.0))"
   ]
  },
  {
   "cell_type": "markdown",
   "id": "8719a35a",
   "metadata": {},
   "source": [
    "When an int is added with a `True` or a `False`, the result is an `int`."
   ]
  },
  {
   "cell_type": "code",
   "execution_count": 146,
   "id": "7ec20c71",
   "metadata": {},
   "outputs": [
    {
     "data": {
      "text/plain": [
       "4"
      ]
     },
     "execution_count": 146,
     "metadata": {},
     "output_type": "execute_result"
    }
   ],
   "source": [
    "3 + True"
   ]
  },
  {
   "cell_type": "markdown",
   "id": "425a10eb",
   "metadata": {},
   "source": [
    "In mathematical operations with numerics, True has a value of 1 and False has the value of 0."
   ]
  },
  {
   "cell_type": "code",
   "execution_count": 147,
   "id": "e5606280",
   "metadata": {},
   "outputs": [
    {
     "data": {
      "text/plain": [
       "3"
      ]
     },
     "execution_count": 147,
     "metadata": {},
     "output_type": "execute_result"
    }
   ],
   "source": [
    "3 + False"
   ]
  },
  {
   "cell_type": "markdown",
   "id": "bcd97bc3",
   "metadata": {},
   "source": [
    "When an `int` is added with a `bool`, the result is an `int`."
   ]
  },
  {
   "cell_type": "code",
   "execution_count": 150,
   "id": "feadb77e",
   "metadata": {},
   "outputs": [
    {
     "data": {
      "text/plain": [
       "int"
      ]
     },
     "execution_count": 150,
     "metadata": {},
     "output_type": "execute_result"
    }
   ],
   "source": [
    "type(True + 3)"
   ]
  },
  {
   "cell_type": "markdown",
   "id": "69b0022d",
   "metadata": {},
   "source": [
    "The `int` builtin is a `type`, but it's also more than that."
   ]
  },
  {
   "cell_type": "code",
   "execution_count": 151,
   "id": "bcbf5071",
   "metadata": {},
   "outputs": [
    {
     "data": {
      "text/plain": [
       "type"
      ]
     },
     "execution_count": 151,
     "metadata": {},
     "output_type": "execute_result"
    }
   ],
   "source": [
    "type(int)"
   ]
  },
  {
   "cell_type": "markdown",
   "id": "b04d0f45",
   "metadata": {},
   "source": [
    "Call int with no arguments, and you'll get 0."
   ]
  },
  {
   "cell_type": "code",
   "execution_count": 152,
   "id": "9d1fb05c",
   "metadata": {},
   "outputs": [
    {
     "data": {
      "text/plain": [
       "0"
      ]
     },
     "execution_count": 152,
     "metadata": {},
     "output_type": "execute_result"
    }
   ],
   "source": [
    "7 * int()"
   ]
  },
  {
   "cell_type": "markdown",
   "id": "adcfae69",
   "metadata": {},
   "source": [
    "We'll discuss some more uses for `int` after discussing \"strings\"."
   ]
  }
 ],
 "metadata": {
  "kernelspec": {
   "display_name": "Python 3 (ipykernel)",
   "language": "python",
   "name": "python3"
  },
  "language_info": {
   "codemirror_mode": {
    "name": "ipython",
    "version": 3
   },
   "file_extension": ".py",
   "mimetype": "text/x-python",
   "name": "python",
   "nbconvert_exporter": "python",
   "pygments_lexer": "ipython3",
   "version": "3.12.4"
  }
 },
 "nbformat": 4,
 "nbformat_minor": 5
}
