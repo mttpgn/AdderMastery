{
 "cells": [
  {
   "cell_type": "markdown",
   "id": "fe4cfb57",
   "metadata": {},
   "source": [
    "# Python Numerics"
   ]
  },
  {
   "cell_type": "markdown",
   "id": "91bf2078",
   "metadata": {},
   "source": [
    "Python has three numeric data types: `int`, `float`, and `complex`."
   ]
  },
  {
   "cell_type": "markdown",
   "id": "8b8015c5",
   "metadata": {},
   "source": [
    "## Part 1: Integers"
   ]
  },
  {
   "cell_type": "markdown",
   "id": "3f9b42de",
   "metadata": {},
   "source": [
    "An integer is any whole number, positive or negative."
   ]
  },
  {
   "cell_type": "code",
   "execution_count": 1,
   "id": "10c08ee7",
   "metadata": {},
   "outputs": [
    {
     "data": {
      "text/plain": [
       "1066"
      ]
     },
     "execution_count": 1,
     "metadata": {},
     "output_type": "execute_result"
    }
   ],
   "source": [
    "1066"
   ]
  },
  {
   "cell_type": "markdown",
   "id": "07147f5b",
   "metadata": {},
   "source": [
    "When typing out large integers, you can insert underscores for legibility."
   ]
  },
  {
   "cell_type": "code",
   "execution_count": 2,
   "id": "10e28cbd",
   "metadata": {},
   "outputs": [
    {
     "data": {
      "text/plain": [
       "1000001024"
      ]
     },
     "execution_count": 2,
     "metadata": {},
     "output_type": "execute_result"
    }
   ],
   "source": [
    "1_000_001_024"
   ]
  },
  {
   "cell_type": "markdown",
   "id": "d7fae93c",
   "metadata": {},
   "source": [
    "Some programming languages have limits to the size of integers. This limitation exists for Python as well, but in practice, you can't reach it."
   ]
  },
  {
   "cell_type": "code",
   "execution_count": 3,
   "id": "ce455b83",
   "metadata": {},
   "outputs": [],
   "source": [
    "# 2 ** (276_701_161_105_643_274_210) - 1\n",
    "\n",
    "# Normal consumer hardware cannot complete the calculation before exhausting memory"
   ]
  },
  {
   "cell_type": "markdown",
   "id": "dcc68cd2",
   "metadata": {},
   "source": [
    "On 64-bit machines, Python integers can reach a size up to 2 to the power of 276,701,161,105,643,274,210 (_two hundred seventy-six quintillion, seven hundred one quadrillion, one hundred sixty-one trillion, one hundred five billion, six hundred forty-three million, two hundred seventy four thousand, two hundred ten_) minus 1."
   ]
  },
  {
   "cell_type": "markdown",
   "id": "3e4d9a21",
   "metadata": {},
   "source": [
    "And just because you can store numeric values up to essentially arbitrary sizes in a Python int, doesn't mean you'll be able to print that value to your terminal screen or to a log file."
   ]
  },
  {
   "cell_type": "code",
   "execution_count": 4,
   "id": "bb78ec99",
   "metadata": {},
   "outputs": [
    {
     "data": {
      "text/plain": [
       "9999999999999999999999999999999999999999999999999999999999999999999999999999999999999999999999999999999999999999999999999999999999999999999999999999999999999999999999999999999999999999999999999999999999999999999999999999999999999999999999999999999999999999999999999999999999999999999999999999999999999999999999999999999999999999999999999999999999999999999999999999999999999999999999999999999999999999999999999999999999999999999999999999999999999999999999999999999999999999999999999999999999999999999999999999999999999999999999999999999999999999999999999999999999999999999999999999999999999999999999999999999999999999999999999999999999999999999999999999999999999999999999999999999999999999999999999999999999999999999999999999999999999999999999999999999999999999999999999999999999999999999999999999999999999999999999999999999999999999999999999999999999999999999999999999999999999999999999999999999999999999999999999999999999999999999999999999999999999999999999999999999999999999999999999999999999999999999999999999999999999999999999999999999999999999999999999999999999999999999999999999999999999999999999999999999999999999999999999999999999999999999999999999999999999999999999999999999999999999999999999999999999999999999999999999999999999999999999999999999999999999999999999999999999999999999999999999999999999999999999999999999999999999999999999999999999999999999999999999999999999999999999999999999999999999999999999999999999999999999999999999999999999999999999999999999999999999999999999999999999999999999999999999999999999999999999999999999999999999999999999999999999999999999999999999999999999999999999999999999999999999999999999999999999999999999999999999999999999999999999999999999999999999999999999999999999999999999999999999999999999999999999999999999999999999999999999999999999999999999999999999999999999999999999999999999999999999999999999999999999999999999999999999999999999999999999999999999999999999999999999999999999999999999999999999999999999999999999999999999999999999999999999999999999999999999999999999999999999999999999999999999999999999999999999999999999999999999999999999999999999999999999999999999999999999999999999999999999999999999999999999999999999999999999999999999999999999999999999999999999999999999999999999999999999999999999999999999999999999999999999999999999999999999999999999999999999999999999999999999999999999999999999999999999999999999999999999999999999999999999999999999999999999999999999999999999999999999999999999999999999999999999999999999999999999999999999999999999999999999999999999999999999999999999999999999999999999999999999999999999999999999999999999999999999999999999999999999999999999999999999999999999999999999999999999999999999999999999999999999999999999999999999999999999999999999999999999999999999999999999999999999999999999999999999999999999999999999999999999999999999999999999999999999999999999999999999999999999999999999999999999999999999999999999999999999999999999999999999999999999999999999999999999999999999999999999999999999999999999999999999999999999999999999999999999999999999999999999999999999999999999999999999999999999999999999999999999999999999999999999999999999999999999999999999999999999999999999999999999999999999999999999999999999999999999999999999999999999999999999999999999999999999999999999999999999999999999999999999999999999999999999999999999999999999999999999999999999999999999999999999999999999999999999999999999999999999999999999999999999999999999999999999999999999999999999999999999999999999999999999999999999999999999999999999999999999999999999999999999999999999999999999999999999999999999999999999999999999999999999999999999999999999999999999999999999999999999999999999999999999999999999999999999999999999999999999999999999999999999999999999999999999999999999999999999999999999999999999999999999999999999999999999999999999999999999999999999999999999999999999999999999999999999999999999999999999999999999999999999999999999999999999999999999999999999999999999999999999999999999999999999999999999999999999999999999999999999999999999999999999999999999999999999999999999999999999999999999999999999999999999999999999999999999999999999999999999999999999999999999999999999999999999999999999999999999999999999999999999999999999999999999999999999999999999999999999999999999999999999999999999999999999999999999999999999999999999999"
      ]
     },
     "execution_count": 4,
     "metadata": {},
     "output_type": "execute_result"
    }
   ],
   "source": [
    "10 ** 4300 - 1"
   ]
  },
  {
   "cell_type": "markdown",
   "id": "48438019",
   "metadata": {},
   "source": [
    "The last command is perfectly legal. \n",
    "\n",
    "But the next command, if we uncommented it and tried actually to run it, would crash. \n",
    "\n",
    "The Python interpreter only lets us print numbers up to four thousand two hundred ninety-nine digits long."
   ]
  },
  {
   "cell_type": "code",
   "execution_count": 5,
   "id": "09312563",
   "metadata": {},
   "outputs": [],
   "source": [
    "# 10 ** 4300\n",
    "# Executing the above calculation will produce this error:\n",
    "# ValueError: Exceeds the limit (4300 digits) for integer string conversion"
   ]
  },
  {
   "cell_type": "markdown",
   "id": "bded15ac",
   "metadata": {},
   "source": [
    "Ints can get huge. The integer data type can store in-memory numbers up to roughly 83 quintillion digits long (that's the number indicated above as `2 ** 276701161105643274210 - 1`). For all practical purposes, Python's `int` datatype type has unlimited capacity."
   ]
  },
  {
   "cell_type": "markdown",
   "id": "2f3784a9",
   "metadata": {},
   "source": [
    "## Checking the `type` of your output"
   ]
  },
  {
   "cell_type": "markdown",
   "id": "f766cd90",
   "metadata": {},
   "source": [
    "Use the `type()` builtin function to view the type of any value. The `type` of an integer is `int`."
   ]
  },
  {
   "cell_type": "code",
   "execution_count": 6,
   "id": "7926a653",
   "metadata": {},
   "outputs": [
    {
     "data": {
      "text/plain": [
       "9"
      ]
     },
     "execution_count": 6,
     "metadata": {},
     "output_type": "execute_result"
    }
   ],
   "source": [
    "3 + 6"
   ]
  },
  {
   "cell_type": "code",
   "execution_count": 7,
   "id": "10b588f3",
   "metadata": {},
   "outputs": [
    {
     "data": {
      "text/plain": [
       "int"
      ]
     },
     "execution_count": 7,
     "metadata": {},
     "output_type": "execute_result"
    }
   ],
   "source": [
    "type(3 + 6)"
   ]
  },
  {
   "cell_type": "markdown",
   "id": "f97a8912",
   "metadata": {},
   "source": [
    "The number `9` has a type of `int`."
   ]
  },
  {
   "cell_type": "markdown",
   "id": "c49bdb52",
   "metadata": {},
   "source": [
    "Numbers with an `int` type interoperate with other numeric types without any need for type conversion."
   ]
  },
  {
   "cell_type": "code",
   "execution_count": 8,
   "id": "38794e1d",
   "metadata": {},
   "outputs": [
    {
     "data": {
      "text/plain": [
       "9.0"
      ]
     },
     "execution_count": 8,
     "metadata": {},
     "output_type": "execute_result"
    }
   ],
   "source": [
    "3 + 6.0"
   ]
  },
  {
   "cell_type": "markdown",
   "id": "cb1edfc8",
   "metadata": {},
   "source": [
    "When an `int` is added with a `float`, the result is a `float`."
   ]
  },
  {
   "cell_type": "code",
   "execution_count": 9,
   "id": "6ad6b728",
   "metadata": {},
   "outputs": [
    {
     "data": {
      "text/plain": [
       "float"
      ]
     },
     "execution_count": 9,
     "metadata": {},
     "output_type": "execute_result"
    }
   ],
   "source": [
    "type(3 + 6.0)"
   ]
  },
  {
   "cell_type": "markdown",
   "id": "7935f151",
   "metadata": {},
   "source": [
    "But you can convert numbers with type `float` into numbers with type `int` with the `int` builtin."
   ]
  },
  {
   "cell_type": "code",
   "execution_count": 10,
   "id": "4a7f054d",
   "metadata": {},
   "outputs": [
    {
     "data": {
      "text/plain": [
       "9"
      ]
     },
     "execution_count": 10,
     "metadata": {},
     "output_type": "execute_result"
    }
   ],
   "source": [
    "int(3 + 6.0)"
   ]
  },
  {
   "cell_type": "markdown",
   "id": "1a68cdb8",
   "metadata": {},
   "source": [
    "And we can confirm it's really an int by wrapping the operation in `type()`."
   ]
  },
  {
   "cell_type": "code",
   "execution_count": 11,
   "id": "360c4a7f",
   "metadata": {},
   "outputs": [
    {
     "data": {
      "text/plain": [
       "int"
      ]
     },
     "execution_count": 11,
     "metadata": {},
     "output_type": "execute_result"
    }
   ],
   "source": [
    "type(int(3 + 6.0))"
   ]
  },
  {
   "cell_type": "markdown",
   "id": "eb80bb1f",
   "metadata": {},
   "source": [
    "When an int is added with a `True` or a `False`, the result is an `int`."
   ]
  },
  {
   "cell_type": "code",
   "execution_count": 12,
   "id": "924b1331",
   "metadata": {},
   "outputs": [
    {
     "data": {
      "text/plain": [
       "4"
      ]
     },
     "execution_count": 12,
     "metadata": {},
     "output_type": "execute_result"
    }
   ],
   "source": [
    "3 + True"
   ]
  },
  {
   "cell_type": "markdown",
   "id": "2fd296d1",
   "metadata": {},
   "source": [
    "In mathematical operations with numerics, True has a value of 1 and False has the value of 0."
   ]
  },
  {
   "cell_type": "code",
   "execution_count": 13,
   "id": "02b93369",
   "metadata": {},
   "outputs": [
    {
     "data": {
      "text/plain": [
       "3"
      ]
     },
     "execution_count": 13,
     "metadata": {},
     "output_type": "execute_result"
    }
   ],
   "source": [
    "3 + False"
   ]
  },
  {
   "cell_type": "markdown",
   "id": "f4515565",
   "metadata": {},
   "source": [
    "When an `int` is added with a `bool`, the result is an `int`."
   ]
  },
  {
   "cell_type": "code",
   "execution_count": 14,
   "id": "e61430f6",
   "metadata": {},
   "outputs": [
    {
     "data": {
      "text/plain": [
       "int"
      ]
     },
     "execution_count": 14,
     "metadata": {},
     "output_type": "execute_result"
    }
   ],
   "source": [
    "type(True + 3)"
   ]
  },
  {
   "cell_type": "markdown",
   "id": "2ad3c1fe",
   "metadata": {},
   "source": [
    "The `int` builtin is a `type`, but it's also more than that."
   ]
  },
  {
   "cell_type": "code",
   "execution_count": 15,
   "id": "f517bffa",
   "metadata": {},
   "outputs": [
    {
     "data": {
      "text/plain": [
       "type"
      ]
     },
     "execution_count": 15,
     "metadata": {},
     "output_type": "execute_result"
    }
   ],
   "source": [
    "type(int)"
   ]
  },
  {
   "cell_type": "markdown",
   "id": "d7e44815",
   "metadata": {},
   "source": [
    "Call int with no arguments, and you'll get 0."
   ]
  },
  {
   "cell_type": "code",
   "execution_count": 16,
   "id": "46e1ba4f",
   "metadata": {},
   "outputs": [
    {
     "data": {
      "text/plain": [
       "0"
      ]
     },
     "execution_count": 16,
     "metadata": {},
     "output_type": "execute_result"
    }
   ],
   "source": [
    "7 * int()"
   ]
  },
  {
   "cell_type": "markdown",
   "id": "61aab087",
   "metadata": {},
   "source": [
    "We'll discuss some more uses for `int` after discussing \"strings\"."
   ]
  }
 ],
 "metadata": {
  "kernelspec": {
   "display_name": "Python 3 (ipykernel)",
   "language": "python",
   "name": "python3"
  },
  "language_info": {
   "codemirror_mode": {
    "name": "ipython",
    "version": 3
   },
   "file_extension": ".py",
   "mimetype": "text/x-python",
   "name": "python",
   "nbconvert_exporter": "python",
   "pygments_lexer": "ipython3",
   "version": "3.12.4"
  }
 },
 "nbformat": 4,
 "nbformat_minor": 5
}
